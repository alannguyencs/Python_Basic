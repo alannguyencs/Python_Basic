{
 "cells": [
  {
   "cell_type": "code",
   "execution_count": 2,
   "metadata": {
    "collapsed": true
   },
   "outputs": [],
   "source": [
    "import pandas"
   ]
  },
  {
   "cell_type": "code",
   "execution_count": 8,
   "metadata": {
    "collapsed": false
   },
   "outputs": [
    {
     "data": {
      "text/html": [
       "<div>\n",
       "<table border=\"1\" class=\"dataframe\">\n",
       "  <thead>\n",
       "    <tr style=\"text-align: right;\">\n",
       "      <th></th>\n",
       "      <th>ID</th>\n",
       "      <th>Address</th>\n",
       "      <th>City</th>\n",
       "      <th>State</th>\n",
       "      <th>Country</th>\n",
       "      <th>Name</th>\n",
       "      <th>Employees</th>\n",
       "    </tr>\n",
       "  </thead>\n",
       "  <tbody>\n",
       "    <tr>\n",
       "      <th>0</th>\n",
       "      <td>1</td>\n",
       "      <td>3666 21st St</td>\n",
       "      <td>San Francisco</td>\n",
       "      <td>CA 94114</td>\n",
       "      <td>USA</td>\n",
       "      <td>Madeira</td>\n",
       "      <td>8</td>\n",
       "    </tr>\n",
       "    <tr>\n",
       "      <th>1</th>\n",
       "      <td>2</td>\n",
       "      <td>735 Dolores St</td>\n",
       "      <td>San Francisco</td>\n",
       "      <td>CA 94119</td>\n",
       "      <td>USA</td>\n",
       "      <td>Bready Shop</td>\n",
       "      <td>15</td>\n",
       "    </tr>\n",
       "    <tr>\n",
       "      <th>2</th>\n",
       "      <td>3</td>\n",
       "      <td>332 Hill St</td>\n",
       "      <td>San Francisco</td>\n",
       "      <td>California 94114</td>\n",
       "      <td>USA</td>\n",
       "      <td>Super River</td>\n",
       "      <td>25</td>\n",
       "    </tr>\n",
       "    <tr>\n",
       "      <th>3</th>\n",
       "      <td>4</td>\n",
       "      <td>3995 23rd St</td>\n",
       "      <td>San Francisco</td>\n",
       "      <td>CA 94114</td>\n",
       "      <td>USA</td>\n",
       "      <td>Ben's Shop</td>\n",
       "      <td>10</td>\n",
       "    </tr>\n",
       "    <tr>\n",
       "      <th>4</th>\n",
       "      <td>5</td>\n",
       "      <td>1056 Sanchez St</td>\n",
       "      <td>San Francisco</td>\n",
       "      <td>California</td>\n",
       "      <td>USA</td>\n",
       "      <td>Sanchez</td>\n",
       "      <td>12</td>\n",
       "    </tr>\n",
       "    <tr>\n",
       "      <th>5</th>\n",
       "      <td>6</td>\n",
       "      <td>551 Alvarado St</td>\n",
       "      <td>San Francisco</td>\n",
       "      <td>CA 94114</td>\n",
       "      <td>USA</td>\n",
       "      <td>Richvalley</td>\n",
       "      <td>20</td>\n",
       "    </tr>\n",
       "  </tbody>\n",
       "</table>\n",
       "</div>"
      ],
      "text/plain": [
       "   ID          Address            City             State Country  \\\n",
       "0   1     3666 21st St   San Francisco          CA 94114     USA   \n",
       "1   2   735 Dolores St   San Francisco          CA 94119     USA   \n",
       "2   3      332 Hill St   San Francisco  California 94114     USA   \n",
       "3   4     3995 23rd St   San Francisco          CA 94114     USA   \n",
       "4   5  1056 Sanchez St   San Francisco        California     USA   \n",
       "5   6  551 Alvarado St   San Francisco          CA 94114     USA   \n",
       "\n",
       "           Name  Employees  \n",
       "0       Madeira          8  \n",
       "1   Bready Shop         15  \n",
       "2   Super River         25  \n",
       "3    Ben's Shop         10  \n",
       "4       Sanchez         12  \n",
       "5    Richvalley         20  "
      ]
     },
     "execution_count": 8,
     "metadata": {},
     "output_type": "execute_result"
    }
   ],
   "source": [
    "df1 = pandas.read_csv(\"http://pythonhow.com/supermarkets.csv\")\n",
    "df1"
   ]
  },
  {
   "cell_type": "code",
   "execution_count": 10,
   "metadata": {
    "collapsed": false
   },
   "outputs": [
    {
     "data": {
      "text/html": [
       "<div>\n",
       "<table border=\"1\" class=\"dataframe\">\n",
       "  <thead>\n",
       "    <tr style=\"text-align: right;\">\n",
       "      <th></th>\n",
       "      <th>Address</th>\n",
       "      <th>City</th>\n",
       "      <th>State</th>\n",
       "      <th>Country</th>\n",
       "      <th>Name</th>\n",
       "      <th>Employees</th>\n",
       "    </tr>\n",
       "    <tr>\n",
       "      <th>ID</th>\n",
       "      <th></th>\n",
       "      <th></th>\n",
       "      <th></th>\n",
       "      <th></th>\n",
       "      <th></th>\n",
       "      <th></th>\n",
       "    </tr>\n",
       "  </thead>\n",
       "  <tbody>\n",
       "    <tr>\n",
       "      <th>1</th>\n",
       "      <td>3666 21st St</td>\n",
       "      <td>San Francisco</td>\n",
       "      <td>CA 94114</td>\n",
       "      <td>USA</td>\n",
       "      <td>Madeira</td>\n",
       "      <td>8</td>\n",
       "    </tr>\n",
       "    <tr>\n",
       "      <th>2</th>\n",
       "      <td>735 Dolores St</td>\n",
       "      <td>San Francisco</td>\n",
       "      <td>CA 94119</td>\n",
       "      <td>USA</td>\n",
       "      <td>Bready Shop</td>\n",
       "      <td>15</td>\n",
       "    </tr>\n",
       "    <tr>\n",
       "      <th>3</th>\n",
       "      <td>332 Hill St</td>\n",
       "      <td>San Francisco</td>\n",
       "      <td>California 94114</td>\n",
       "      <td>USA</td>\n",
       "      <td>Super River</td>\n",
       "      <td>25</td>\n",
       "    </tr>\n",
       "    <tr>\n",
       "      <th>4</th>\n",
       "      <td>3995 23rd St</td>\n",
       "      <td>San Francisco</td>\n",
       "      <td>CA 94114</td>\n",
       "      <td>USA</td>\n",
       "      <td>Ben's Shop</td>\n",
       "      <td>10</td>\n",
       "    </tr>\n",
       "    <tr>\n",
       "      <th>5</th>\n",
       "      <td>1056 Sanchez St</td>\n",
       "      <td>San Francisco</td>\n",
       "      <td>California</td>\n",
       "      <td>USA</td>\n",
       "      <td>Sanchez</td>\n",
       "      <td>12</td>\n",
       "    </tr>\n",
       "    <tr>\n",
       "      <th>6</th>\n",
       "      <td>551 Alvarado St</td>\n",
       "      <td>San Francisco</td>\n",
       "      <td>CA 94114</td>\n",
       "      <td>USA</td>\n",
       "      <td>Richvalley</td>\n",
       "      <td>20</td>\n",
       "    </tr>\n",
       "  </tbody>\n",
       "</table>\n",
       "</div>"
      ],
      "text/plain": [
       "            Address            City             State Country          Name  \\\n",
       "ID                                                                            \n",
       "1      3666 21st St   San Francisco          CA 94114     USA       Madeira   \n",
       "2    735 Dolores St   San Francisco          CA 94119     USA   Bready Shop   \n",
       "3       332 Hill St   San Francisco  California 94114     USA   Super River   \n",
       "4      3995 23rd St   San Francisco          CA 94114     USA    Ben's Shop   \n",
       "5   1056 Sanchez St   San Francisco        California     USA       Sanchez   \n",
       "6   551 Alvarado St   San Francisco          CA 94114     USA    Richvalley   \n",
       "\n",
       "    Employees  \n",
       "ID             \n",
       "1           8  \n",
       "2          15  \n",
       "3          25  \n",
       "4          10  \n",
       "5          12  \n",
       "6          20  "
      ]
     },
     "execution_count": 10,
     "metadata": {},
     "output_type": "execute_result"
    }
   ],
   "source": [
    "df1.set_index(\"ID\")"
   ]
  },
  {
   "cell_type": "code",
   "execution_count": 16,
   "metadata": {
    "collapsed": false
   },
   "outputs": [
    {
     "data": {
      "text/html": [
       "<div>\n",
       "<table border=\"1\" class=\"dataframe\">\n",
       "  <thead>\n",
       "    <tr style=\"text-align: right;\">\n",
       "      <th></th>\n",
       "      <th>Address</th>\n",
       "      <th>City</th>\n",
       "      <th>Country</th>\n",
       "      <th>Employees</th>\n",
       "      <th>ID</th>\n",
       "      <th>Name</th>\n",
       "      <th>State</th>\n",
       "    </tr>\n",
       "  </thead>\n",
       "  <tbody>\n",
       "    <tr>\n",
       "      <th>0</th>\n",
       "      <td>3666 21st St</td>\n",
       "      <td>San Francisco</td>\n",
       "      <td>USA</td>\n",
       "      <td>8</td>\n",
       "      <td>1</td>\n",
       "      <td>Madeira</td>\n",
       "      <td>CA 94114</td>\n",
       "    </tr>\n",
       "    <tr>\n",
       "      <th>1</th>\n",
       "      <td>735 Dolores St</td>\n",
       "      <td>San Francisco</td>\n",
       "      <td>USA</td>\n",
       "      <td>15</td>\n",
       "      <td>2</td>\n",
       "      <td>Bready Shop</td>\n",
       "      <td>CA 94119</td>\n",
       "    </tr>\n",
       "    <tr>\n",
       "      <th>2</th>\n",
       "      <td>332 Hill St</td>\n",
       "      <td>San Francisco</td>\n",
       "      <td>USA</td>\n",
       "      <td>25</td>\n",
       "      <td>3</td>\n",
       "      <td>Super River</td>\n",
       "      <td>California 94114</td>\n",
       "    </tr>\n",
       "    <tr>\n",
       "      <th>3</th>\n",
       "      <td>3995 23rd St</td>\n",
       "      <td>San Francisco</td>\n",
       "      <td>USA</td>\n",
       "      <td>10</td>\n",
       "      <td>4</td>\n",
       "      <td>Ben's Shop</td>\n",
       "      <td>CA 94114</td>\n",
       "    </tr>\n",
       "    <tr>\n",
       "      <th>4</th>\n",
       "      <td>1056 Sanchez St</td>\n",
       "      <td>San Francisco</td>\n",
       "      <td>USA</td>\n",
       "      <td>12</td>\n",
       "      <td>5</td>\n",
       "      <td>Sanchez</td>\n",
       "      <td>California</td>\n",
       "    </tr>\n",
       "    <tr>\n",
       "      <th>5</th>\n",
       "      <td>551 Alvarado St</td>\n",
       "      <td>San Francisco</td>\n",
       "      <td>USA</td>\n",
       "      <td>20</td>\n",
       "      <td>6</td>\n",
       "      <td>Richvalley</td>\n",
       "      <td>CA 94114</td>\n",
       "    </tr>\n",
       "  </tbody>\n",
       "</table>\n",
       "</div>"
      ],
      "text/plain": [
       "           Address           City Country  Employees  ID         Name  \\\n",
       "0     3666 21st St  San Francisco     USA          8   1      Madeira   \n",
       "1   735 Dolores St  San Francisco     USA         15   2  Bready Shop   \n",
       "2      332 Hill St  San Francisco     USA         25   3  Super River   \n",
       "3     3995 23rd St  San Francisco     USA         10   4   Ben's Shop   \n",
       "4  1056 Sanchez St  San Francisco     USA         12   5      Sanchez   \n",
       "5  551 Alvarado St  San Francisco     USA         20   6   Richvalley   \n",
       "\n",
       "              State  \n",
       "0          CA 94114  \n",
       "1          CA 94119  \n",
       "2  California 94114  \n",
       "3          CA 94114  \n",
       "4        California  \n",
       "5          CA 94114  "
      ]
     },
     "execution_count": 16,
     "metadata": {},
     "output_type": "execute_result"
    }
   ],
   "source": [
    "df2 = pandas.read_json(\"http://pythonhow.com/supermarkets.json\")\n",
    "df2"
   ]
  },
  {
   "cell_type": "code",
   "execution_count": 17,
   "metadata": {
    "collapsed": false
   },
   "outputs": [
    {
     "data": {
      "text/html": [
       "<div>\n",
       "<table border=\"1\" class=\"dataframe\">\n",
       "  <thead>\n",
       "    <tr style=\"text-align: right;\">\n",
       "      <th></th>\n",
       "      <th>City</th>\n",
       "      <th>Country</th>\n",
       "      <th>Employees</th>\n",
       "      <th>ID</th>\n",
       "      <th>Name</th>\n",
       "      <th>State</th>\n",
       "    </tr>\n",
       "    <tr>\n",
       "      <th>Address</th>\n",
       "      <th></th>\n",
       "      <th></th>\n",
       "      <th></th>\n",
       "      <th></th>\n",
       "      <th></th>\n",
       "      <th></th>\n",
       "    </tr>\n",
       "  </thead>\n",
       "  <tbody>\n",
       "    <tr>\n",
       "      <th>3666 21st St</th>\n",
       "      <td>San Francisco</td>\n",
       "      <td>USA</td>\n",
       "      <td>8</td>\n",
       "      <td>1</td>\n",
       "      <td>Madeira</td>\n",
       "      <td>CA 94114</td>\n",
       "    </tr>\n",
       "    <tr>\n",
       "      <th>735 Dolores St</th>\n",
       "      <td>San Francisco</td>\n",
       "      <td>USA</td>\n",
       "      <td>15</td>\n",
       "      <td>2</td>\n",
       "      <td>Bready Shop</td>\n",
       "      <td>CA 94119</td>\n",
       "    </tr>\n",
       "    <tr>\n",
       "      <th>332 Hill St</th>\n",
       "      <td>San Francisco</td>\n",
       "      <td>USA</td>\n",
       "      <td>25</td>\n",
       "      <td>3</td>\n",
       "      <td>Super River</td>\n",
       "      <td>California 94114</td>\n",
       "    </tr>\n",
       "    <tr>\n",
       "      <th>3995 23rd St</th>\n",
       "      <td>San Francisco</td>\n",
       "      <td>USA</td>\n",
       "      <td>10</td>\n",
       "      <td>4</td>\n",
       "      <td>Ben's Shop</td>\n",
       "      <td>CA 94114</td>\n",
       "    </tr>\n",
       "    <tr>\n",
       "      <th>1056 Sanchez St</th>\n",
       "      <td>San Francisco</td>\n",
       "      <td>USA</td>\n",
       "      <td>12</td>\n",
       "      <td>5</td>\n",
       "      <td>Sanchez</td>\n",
       "      <td>California</td>\n",
       "    </tr>\n",
       "    <tr>\n",
       "      <th>551 Alvarado St</th>\n",
       "      <td>San Francisco</td>\n",
       "      <td>USA</td>\n",
       "      <td>20</td>\n",
       "      <td>6</td>\n",
       "      <td>Richvalley</td>\n",
       "      <td>CA 94114</td>\n",
       "    </tr>\n",
       "  </tbody>\n",
       "</table>\n",
       "</div>"
      ],
      "text/plain": [
       "                          City Country  Employees  ID         Name  \\\n",
       "Address                                                              \n",
       "3666 21st St     San Francisco     USA          8   1      Madeira   \n",
       "735 Dolores St   San Francisco     USA         15   2  Bready Shop   \n",
       "332 Hill St      San Francisco     USA         25   3  Super River   \n",
       "3995 23rd St     San Francisco     USA         10   4   Ben's Shop   \n",
       "1056 Sanchez St  San Francisco     USA         12   5      Sanchez   \n",
       "551 Alvarado St  San Francisco     USA         20   6   Richvalley   \n",
       "\n",
       "                            State  \n",
       "Address                            \n",
       "3666 21st St             CA 94114  \n",
       "735 Dolores St           CA 94119  \n",
       "332 Hill St      California 94114  \n",
       "3995 23rd St             CA 94114  \n",
       "1056 Sanchez St        California  \n",
       "551 Alvarado St          CA 94114  "
      ]
     },
     "execution_count": 17,
     "metadata": {},
     "output_type": "execute_result"
    }
   ],
   "source": [
    "df2 = df2.set_index(\"Address\")\n",
    "df2"
   ]
  },
  {
   "cell_type": "code",
   "execution_count": 18,
   "metadata": {
    "collapsed": false
   },
   "outputs": [
    {
     "data": {
      "text/html": [
       "<div>\n",
       "<table border=\"1\" class=\"dataframe\">\n",
       "  <thead>\n",
       "    <tr style=\"text-align: right;\">\n",
       "      <th></th>\n",
       "      <th>Country</th>\n",
       "      <th>Employees</th>\n",
       "      <th>ID</th>\n",
       "    </tr>\n",
       "    <tr>\n",
       "      <th>Address</th>\n",
       "      <th></th>\n",
       "      <th></th>\n",
       "      <th></th>\n",
       "    </tr>\n",
       "  </thead>\n",
       "  <tbody>\n",
       "    <tr>\n",
       "      <th>735 Dolores St</th>\n",
       "      <td>USA</td>\n",
       "      <td>15</td>\n",
       "      <td>2</td>\n",
       "    </tr>\n",
       "    <tr>\n",
       "      <th>332 Hill St</th>\n",
       "      <td>USA</td>\n",
       "      <td>25</td>\n",
       "      <td>3</td>\n",
       "    </tr>\n",
       "  </tbody>\n",
       "</table>\n",
       "</div>"
      ],
      "text/plain": [
       "               Country  Employees  ID\n",
       "Address                              \n",
       "735 Dolores St     USA         15   2\n",
       "332 Hill St        USA         25   3"
      ]
     },
     "execution_count": 18,
     "metadata": {},
     "output_type": "execute_result"
    }
   ],
   "source": [
    "df2.loc[\"735 Dolores St\":\"332 Hill St\", \"Country\":\"ID\"]"
   ]
  },
  {
   "cell_type": "code",
   "execution_count": 19,
   "metadata": {
    "collapsed": false
   },
   "outputs": [
    {
     "data": {
      "text/plain": [
       "['USA', 'USA', 'USA', 'USA', 'USA', 'USA']"
      ]
     },
     "execution_count": 19,
     "metadata": {},
     "output_type": "execute_result"
    }
   ],
   "source": [
    "list(df2.loc[:,\"Country\"])"
   ]
  },
  {
   "cell_type": "code",
   "execution_count": 24,
   "metadata": {
    "collapsed": false
   },
   "outputs": [
    {
     "data": {
      "text/plain": [
       "Country      USA\n",
       "Employees     10\n",
       "ID             4\n",
       "Name: 3995 23rd St, dtype: object"
      ]
     },
     "execution_count": 24,
     "metadata": {},
     "output_type": "execute_result"
    }
   ],
   "source": [
    "#loc by index\n",
    "df2.iloc[3,1:4]"
   ]
  },
  {
   "cell_type": "code",
   "execution_count": null,
   "metadata": {
    "collapsed": true
   },
   "outputs": [],
   "source": []
  },
  {
   "cell_type": "code",
   "execution_count": 21,
   "metadata": {
    "collapsed": false
   },
   "outputs": [
    {
     "data": {
      "text/plain": [
       "\"Ben's Shop\""
      ]
     },
     "execution_count": 21,
     "metadata": {},
     "output_type": "execute_result"
    }
   ],
   "source": [
    "df2.ix[3,\"Name\"]"
   ]
  },
  {
   "cell_type": "code",
   "execution_count": 22,
   "metadata": {
    "collapsed": false
   },
   "outputs": [
    {
     "data": {
      "text/plain": [
       "\"Ben's Shop\""
      ]
     },
     "execution_count": 22,
     "metadata": {},
     "output_type": "execute_result"
    }
   ],
   "source": [
    "df2.ix[3,4]"
   ]
  },
  {
   "cell_type": "code",
   "execution_count": 26,
   "metadata": {
    "collapsed": false
   },
   "outputs": [
    {
     "data": {
      "text/html": [
       "<div>\n",
       "<table border=\"1\" class=\"dataframe\">\n",
       "  <thead>\n",
       "    <tr style=\"text-align: right;\">\n",
       "      <th></th>\n",
       "      <th>City</th>\n",
       "      <th>Country</th>\n",
       "      <th>Employees</th>\n",
       "      <th>ID</th>\n",
       "      <th>Name</th>\n",
       "      <th>State</th>\n",
       "    </tr>\n",
       "    <tr>\n",
       "      <th>Address</th>\n",
       "      <th></th>\n",
       "      <th></th>\n",
       "      <th></th>\n",
       "      <th></th>\n",
       "      <th></th>\n",
       "      <th></th>\n",
       "    </tr>\n",
       "  </thead>\n",
       "  <tbody>\n",
       "    <tr>\n",
       "      <th>3666 21st St</th>\n",
       "      <td>San Francisco</td>\n",
       "      <td>USA</td>\n",
       "      <td>8</td>\n",
       "      <td>1</td>\n",
       "      <td>Madeira</td>\n",
       "      <td>CA 94114</td>\n",
       "    </tr>\n",
       "    <tr>\n",
       "      <th>735 Dolores St</th>\n",
       "      <td>San Francisco</td>\n",
       "      <td>USA</td>\n",
       "      <td>15</td>\n",
       "      <td>2</td>\n",
       "      <td>Bready Shop</td>\n",
       "      <td>CA 94119</td>\n",
       "    </tr>\n",
       "    <tr>\n",
       "      <th>3995 23rd St</th>\n",
       "      <td>San Francisco</td>\n",
       "      <td>USA</td>\n",
       "      <td>10</td>\n",
       "      <td>4</td>\n",
       "      <td>Ben's Shop</td>\n",
       "      <td>CA 94114</td>\n",
       "    </tr>\n",
       "    <tr>\n",
       "      <th>1056 Sanchez St</th>\n",
       "      <td>San Francisco</td>\n",
       "      <td>USA</td>\n",
       "      <td>12</td>\n",
       "      <td>5</td>\n",
       "      <td>Sanchez</td>\n",
       "      <td>California</td>\n",
       "    </tr>\n",
       "    <tr>\n",
       "      <th>551 Alvarado St</th>\n",
       "      <td>San Francisco</td>\n",
       "      <td>USA</td>\n",
       "      <td>20</td>\n",
       "      <td>6</td>\n",
       "      <td>Richvalley</td>\n",
       "      <td>CA 94114</td>\n",
       "    </tr>\n",
       "  </tbody>\n",
       "</table>\n",
       "</div>"
      ],
      "text/plain": [
       "                          City Country  Employees  ID         Name       State\n",
       "Address                                                                       \n",
       "3666 21st St     San Francisco     USA          8   1      Madeira    CA 94114\n",
       "735 Dolores St   San Francisco     USA         15   2  Bready Shop    CA 94119\n",
       "3995 23rd St     San Francisco     USA         10   4   Ben's Shop    CA 94114\n",
       "1056 Sanchez St  San Francisco     USA         12   5      Sanchez  California\n",
       "551 Alvarado St  San Francisco     USA         20   6   Richvalley    CA 94114"
      ]
     },
     "execution_count": 26,
     "metadata": {},
     "output_type": "execute_result"
    }
   ],
   "source": [
    "df2.drop(\"332 Hill St\")"
   ]
  },
  {
   "cell_type": "code",
   "execution_count": 27,
   "metadata": {
    "collapsed": false
   },
   "outputs": [
    {
     "data": {
      "text/html": [
       "<div>\n",
       "<table border=\"1\" class=\"dataframe\">\n",
       "  <thead>\n",
       "    <tr style=\"text-align: right;\">\n",
       "      <th></th>\n",
       "      <th>ID</th>\n",
       "      <th>Name</th>\n",
       "      <th>State</th>\n",
       "    </tr>\n",
       "    <tr>\n",
       "      <th>Address</th>\n",
       "      <th></th>\n",
       "      <th></th>\n",
       "      <th></th>\n",
       "    </tr>\n",
       "  </thead>\n",
       "  <tbody>\n",
       "    <tr>\n",
       "      <th>3666 21st St</th>\n",
       "      <td>1</td>\n",
       "      <td>Madeira</td>\n",
       "      <td>CA 94114</td>\n",
       "    </tr>\n",
       "    <tr>\n",
       "      <th>735 Dolores St</th>\n",
       "      <td>2</td>\n",
       "      <td>Bready Shop</td>\n",
       "      <td>CA 94119</td>\n",
       "    </tr>\n",
       "    <tr>\n",
       "      <th>332 Hill St</th>\n",
       "      <td>3</td>\n",
       "      <td>Super River</td>\n",
       "      <td>California 94114</td>\n",
       "    </tr>\n",
       "    <tr>\n",
       "      <th>3995 23rd St</th>\n",
       "      <td>4</td>\n",
       "      <td>Ben's Shop</td>\n",
       "      <td>CA 94114</td>\n",
       "    </tr>\n",
       "    <tr>\n",
       "      <th>1056 Sanchez St</th>\n",
       "      <td>5</td>\n",
       "      <td>Sanchez</td>\n",
       "      <td>California</td>\n",
       "    </tr>\n",
       "    <tr>\n",
       "      <th>551 Alvarado St</th>\n",
       "      <td>6</td>\n",
       "      <td>Richvalley</td>\n",
       "      <td>CA 94114</td>\n",
       "    </tr>\n",
       "  </tbody>\n",
       "</table>\n",
       "</div>"
      ],
      "text/plain": [
       "                 ID         Name             State\n",
       "Address                                           \n",
       "3666 21st St      1      Madeira          CA 94114\n",
       "735 Dolores St    2  Bready Shop          CA 94119\n",
       "332 Hill St       3  Super River  California 94114\n",
       "3995 23rd St      4   Ben's Shop          CA 94114\n",
       "1056 Sanchez St   5      Sanchez        California\n",
       "551 Alvarado St   6   Richvalley          CA 94114"
      ]
     },
     "execution_count": 27,
     "metadata": {},
     "output_type": "execute_result"
    }
   ],
   "source": [
    "df2.drop(df2.columns[0:3], 1)"
   ]
  },
  {
   "cell_type": "code",
   "execution_count": 28,
   "metadata": {
    "collapsed": false
   },
   "outputs": [
    {
     "data": {
      "text/plain": [
       "Index(['3666 21st St', '735 Dolores St', '332 Hill St', '3995 23rd St',\n",
       "       '1056 Sanchez St', '551 Alvarado St'],\n",
       "      dtype='object', name='Address')"
      ]
     },
     "execution_count": 28,
     "metadata": {},
     "output_type": "execute_result"
    }
   ],
   "source": [
    "df2.index"
   ]
  },
  {
   "cell_type": "code",
   "execution_count": 29,
   "metadata": {
    "collapsed": false
   },
   "outputs": [
    {
     "data": {
      "text/plain": [
       "Index(['City', 'Country', 'Employees', 'ID', 'Name', 'State'], dtype='object')"
      ]
     },
     "execution_count": 29,
     "metadata": {},
     "output_type": "execute_result"
    }
   ],
   "source": [
    "df2.columns"
   ]
  },
  {
   "cell_type": "code",
   "execution_count": 30,
   "metadata": {
    "collapsed": false
   },
   "outputs": [
    {
     "data": {
      "text/plain": [
       "Address\n",
       "3666 21st St       San Francisco\n",
       "735 Dolores St     San Francisco\n",
       "332 Hill St        San Francisco\n",
       "3995 23rd St       San Francisco\n",
       "1056 Sanchez St    San Francisco\n",
       "551 Alvarado St    San Francisco\n",
       "Name: City, dtype: object"
      ]
     },
     "execution_count": 30,
     "metadata": {},
     "output_type": "execute_result"
    }
   ],
   "source": [
    "df2[\"City\"]"
   ]
  },
  {
   "cell_type": "code",
   "execution_count": 32,
   "metadata": {
    "collapsed": false
   },
   "outputs": [
    {
     "data": {
      "text/html": [
       "<div>\n",
       "<table border=\"1\" class=\"dataframe\">\n",
       "  <thead>\n",
       "    <tr style=\"text-align: right;\">\n",
       "      <th></th>\n",
       "      <th>City</th>\n",
       "      <th>Country</th>\n",
       "      <th>Employees</th>\n",
       "      <th>ID</th>\n",
       "      <th>Name</th>\n",
       "      <th>State</th>\n",
       "      <th>Continent</th>\n",
       "    </tr>\n",
       "    <tr>\n",
       "      <th>Address</th>\n",
       "      <th></th>\n",
       "      <th></th>\n",
       "      <th></th>\n",
       "      <th></th>\n",
       "      <th></th>\n",
       "      <th></th>\n",
       "      <th></th>\n",
       "    </tr>\n",
       "  </thead>\n",
       "  <tbody>\n",
       "    <tr>\n",
       "      <th>3666 21st St</th>\n",
       "      <td>San Francisco</td>\n",
       "      <td>USA</td>\n",
       "      <td>8</td>\n",
       "      <td>1</td>\n",
       "      <td>Madeira</td>\n",
       "      <td>CA 94114</td>\n",
       "      <td>North America</td>\n",
       "    </tr>\n",
       "    <tr>\n",
       "      <th>735 Dolores St</th>\n",
       "      <td>San Francisco</td>\n",
       "      <td>USA</td>\n",
       "      <td>15</td>\n",
       "      <td>2</td>\n",
       "      <td>Bready Shop</td>\n",
       "      <td>CA 94119</td>\n",
       "      <td>North America</td>\n",
       "    </tr>\n",
       "    <tr>\n",
       "      <th>332 Hill St</th>\n",
       "      <td>San Francisco</td>\n",
       "      <td>USA</td>\n",
       "      <td>25</td>\n",
       "      <td>3</td>\n",
       "      <td>Super River</td>\n",
       "      <td>California 94114</td>\n",
       "      <td>North America</td>\n",
       "    </tr>\n",
       "    <tr>\n",
       "      <th>3995 23rd St</th>\n",
       "      <td>San Francisco</td>\n",
       "      <td>USA</td>\n",
       "      <td>10</td>\n",
       "      <td>4</td>\n",
       "      <td>Ben's Shop</td>\n",
       "      <td>CA 94114</td>\n",
       "      <td>North America</td>\n",
       "    </tr>\n",
       "    <tr>\n",
       "      <th>1056 Sanchez St</th>\n",
       "      <td>San Francisco</td>\n",
       "      <td>USA</td>\n",
       "      <td>12</td>\n",
       "      <td>5</td>\n",
       "      <td>Sanchez</td>\n",
       "      <td>California</td>\n",
       "      <td>North America</td>\n",
       "    </tr>\n",
       "    <tr>\n",
       "      <th>551 Alvarado St</th>\n",
       "      <td>San Francisco</td>\n",
       "      <td>USA</td>\n",
       "      <td>20</td>\n",
       "      <td>6</td>\n",
       "      <td>Richvalley</td>\n",
       "      <td>CA 94114</td>\n",
       "      <td>North America</td>\n",
       "    </tr>\n",
       "  </tbody>\n",
       "</table>\n",
       "</div>"
      ],
      "text/plain": [
       "                          City Country  Employees  ID         Name  \\\n",
       "Address                                                              \n",
       "3666 21st St     San Francisco     USA          8   1      Madeira   \n",
       "735 Dolores St   San Francisco     USA         15   2  Bready Shop   \n",
       "332 Hill St      San Francisco     USA         25   3  Super River   \n",
       "3995 23rd St     San Francisco     USA         10   4   Ben's Shop   \n",
       "1056 Sanchez St  San Francisco     USA         12   5      Sanchez   \n",
       "551 Alvarado St  San Francisco     USA         20   6   Richvalley   \n",
       "\n",
       "                            State      Continent  \n",
       "Address                                           \n",
       "3666 21st St             CA 94114  North America  \n",
       "735 Dolores St           CA 94119  North America  \n",
       "332 Hill St      California 94114  North America  \n",
       "3995 23rd St             CA 94114  North America  \n",
       "1056 Sanchez St        California  North America  \n",
       "551 Alvarado St          CA 94114  North America  "
      ]
     },
     "execution_count": 32,
     "metadata": {},
     "output_type": "execute_result"
    }
   ],
   "source": [
    "#insert new columns\n",
    "df2[\"Continent\"] = df2.shape[0] * [\"North America\"]\n",
    "df2"
   ]
  },
  {
   "cell_type": "code",
   "execution_count": 33,
   "metadata": {
    "collapsed": false
   },
   "outputs": [
    {
     "data": {
      "text/html": [
       "<div>\n",
       "<table border=\"1\" class=\"dataframe\">\n",
       "  <thead>\n",
       "    <tr style=\"text-align: right;\">\n",
       "      <th>Address</th>\n",
       "      <th>3666 21st St</th>\n",
       "      <th>735 Dolores St</th>\n",
       "      <th>332 Hill St</th>\n",
       "      <th>3995 23rd St</th>\n",
       "      <th>1056 Sanchez St</th>\n",
       "      <th>551 Alvarado St</th>\n",
       "    </tr>\n",
       "  </thead>\n",
       "  <tbody>\n",
       "    <tr>\n",
       "      <th>City</th>\n",
       "      <td>San Francisco</td>\n",
       "      <td>San Francisco</td>\n",
       "      <td>San Francisco</td>\n",
       "      <td>San Francisco</td>\n",
       "      <td>San Francisco</td>\n",
       "      <td>San Francisco</td>\n",
       "    </tr>\n",
       "    <tr>\n",
       "      <th>Country</th>\n",
       "      <td>USA</td>\n",
       "      <td>USA</td>\n",
       "      <td>USA</td>\n",
       "      <td>USA</td>\n",
       "      <td>USA</td>\n",
       "      <td>USA</td>\n",
       "    </tr>\n",
       "    <tr>\n",
       "      <th>Employees</th>\n",
       "      <td>8</td>\n",
       "      <td>15</td>\n",
       "      <td>25</td>\n",
       "      <td>10</td>\n",
       "      <td>12</td>\n",
       "      <td>20</td>\n",
       "    </tr>\n",
       "    <tr>\n",
       "      <th>ID</th>\n",
       "      <td>1</td>\n",
       "      <td>2</td>\n",
       "      <td>3</td>\n",
       "      <td>4</td>\n",
       "      <td>5</td>\n",
       "      <td>6</td>\n",
       "    </tr>\n",
       "    <tr>\n",
       "      <th>Name</th>\n",
       "      <td>Madeira</td>\n",
       "      <td>Bready Shop</td>\n",
       "      <td>Super River</td>\n",
       "      <td>Ben's Shop</td>\n",
       "      <td>Sanchez</td>\n",
       "      <td>Richvalley</td>\n",
       "    </tr>\n",
       "    <tr>\n",
       "      <th>State</th>\n",
       "      <td>CA 94114</td>\n",
       "      <td>CA 94119</td>\n",
       "      <td>California 94114</td>\n",
       "      <td>CA 94114</td>\n",
       "      <td>California</td>\n",
       "      <td>CA 94114</td>\n",
       "    </tr>\n",
       "    <tr>\n",
       "      <th>Continent</th>\n",
       "      <td>North America</td>\n",
       "      <td>North America</td>\n",
       "      <td>North America</td>\n",
       "      <td>North America</td>\n",
       "      <td>North America</td>\n",
       "      <td>North America</td>\n",
       "    </tr>\n",
       "  </tbody>\n",
       "</table>\n",
       "</div>"
      ],
      "text/plain": [
       "Address     3666 21st St 735 Dolores St       332 Hill St   3995 23rd St  \\\n",
       "City       San Francisco  San Francisco     San Francisco  San Francisco   \n",
       "Country              USA            USA               USA            USA   \n",
       "Employees              8             15                25             10   \n",
       "ID                     1              2                 3              4   \n",
       "Name             Madeira    Bready Shop       Super River     Ben's Shop   \n",
       "State           CA 94114       CA 94119  California 94114       CA 94114   \n",
       "Continent  North America  North America     North America  North America   \n",
       "\n",
       "Address   1056 Sanchez St 551 Alvarado St  \n",
       "City        San Francisco   San Francisco  \n",
       "Country               USA             USA  \n",
       "Employees              12              20  \n",
       "ID                      5               6  \n",
       "Name              Sanchez      Richvalley  \n",
       "State          California        CA 94114  \n",
       "Continent   North America   North America  "
      ]
     },
     "execution_count": 33,
     "metadata": {},
     "output_type": "execute_result"
    }
   ],
   "source": [
    "#Transport\n",
    "df2_t = df2.T\n",
    "df2_t"
   ]
  },
  {
   "cell_type": "code",
   "execution_count": 34,
   "metadata": {
    "collapsed": false
   },
   "outputs": [
    {
     "data": {
      "text/html": [
       "<div>\n",
       "<table border=\"1\" class=\"dataframe\">\n",
       "  <thead>\n",
       "    <tr style=\"text-align: right;\">\n",
       "      <th>Address</th>\n",
       "      <th>3666 21st St</th>\n",
       "      <th>735 Dolores St</th>\n",
       "      <th>332 Hill St</th>\n",
       "      <th>3995 23rd St</th>\n",
       "      <th>1056 Sanchez St</th>\n",
       "      <th>551 Alvarado St</th>\n",
       "      <th>My Address</th>\n",
       "    </tr>\n",
       "  </thead>\n",
       "  <tbody>\n",
       "    <tr>\n",
       "      <th>City</th>\n",
       "      <td>San Francisco</td>\n",
       "      <td>San Francisco</td>\n",
       "      <td>San Francisco</td>\n",
       "      <td>San Francisco</td>\n",
       "      <td>San Francisco</td>\n",
       "      <td>San Francisco</td>\n",
       "      <td>My City</td>\n",
       "    </tr>\n",
       "    <tr>\n",
       "      <th>Country</th>\n",
       "      <td>USA</td>\n",
       "      <td>USA</td>\n",
       "      <td>USA</td>\n",
       "      <td>USA</td>\n",
       "      <td>USA</td>\n",
       "      <td>USA</td>\n",
       "      <td>My Country</td>\n",
       "    </tr>\n",
       "    <tr>\n",
       "      <th>Employees</th>\n",
       "      <td>8</td>\n",
       "      <td>15</td>\n",
       "      <td>25</td>\n",
       "      <td>10</td>\n",
       "      <td>12</td>\n",
       "      <td>20</td>\n",
       "      <td>10</td>\n",
       "    </tr>\n",
       "    <tr>\n",
       "      <th>ID</th>\n",
       "      <td>1</td>\n",
       "      <td>2</td>\n",
       "      <td>3</td>\n",
       "      <td>4</td>\n",
       "      <td>5</td>\n",
       "      <td>6</td>\n",
       "      <td>7</td>\n",
       "    </tr>\n",
       "    <tr>\n",
       "      <th>Name</th>\n",
       "      <td>Madeira</td>\n",
       "      <td>Bready Shop</td>\n",
       "      <td>Super River</td>\n",
       "      <td>Ben's Shop</td>\n",
       "      <td>Sanchez</td>\n",
       "      <td>Richvalley</td>\n",
       "      <td>My Shop</td>\n",
       "    </tr>\n",
       "    <tr>\n",
       "      <th>State</th>\n",
       "      <td>CA 94114</td>\n",
       "      <td>CA 94119</td>\n",
       "      <td>California 94114</td>\n",
       "      <td>CA 94114</td>\n",
       "      <td>California</td>\n",
       "      <td>CA 94114</td>\n",
       "      <td>My State</td>\n",
       "    </tr>\n",
       "    <tr>\n",
       "      <th>Continent</th>\n",
       "      <td>North America</td>\n",
       "      <td>North America</td>\n",
       "      <td>North America</td>\n",
       "      <td>North America</td>\n",
       "      <td>North America</td>\n",
       "      <td>North America</td>\n",
       "      <td>My Continent</td>\n",
       "    </tr>\n",
       "  </tbody>\n",
       "</table>\n",
       "</div>"
      ],
      "text/plain": [
       "Address     3666 21st St 735 Dolores St       332 Hill St   3995 23rd St  \\\n",
       "City       San Francisco  San Francisco     San Francisco  San Francisco   \n",
       "Country              USA            USA               USA            USA   \n",
       "Employees              8             15                25             10   \n",
       "ID                     1              2                 3              4   \n",
       "Name             Madeira    Bready Shop       Super River     Ben's Shop   \n",
       "State           CA 94114       CA 94119  California 94114       CA 94114   \n",
       "Continent  North America  North America     North America  North America   \n",
       "\n",
       "Address   1056 Sanchez St 551 Alvarado St    My Address  \n",
       "City        San Francisco   San Francisco       My City  \n",
       "Country               USA             USA    My Country  \n",
       "Employees              12              20            10  \n",
       "ID                      5               6             7  \n",
       "Name              Sanchez      Richvalley       My Shop  \n",
       "State          California        CA 94114      My State  \n",
       "Continent   North America   North America  My Continent  "
      ]
     },
     "execution_count": 34,
     "metadata": {},
     "output_type": "execute_result"
    }
   ],
   "source": [
    "df2_t[\"My Address\"] = [\"My City\", \"My Country\", 10, 7, \"My Shop\", \"My State\", \"My Continent\"]\n",
    "df2_t"
   ]
  },
  {
   "cell_type": "code",
   "execution_count": 35,
   "metadata": {
    "collapsed": false
   },
   "outputs": [
    {
     "data": {
      "text/html": [
       "<div>\n",
       "<table border=\"1\" class=\"dataframe\">\n",
       "  <thead>\n",
       "    <tr style=\"text-align: right;\">\n",
       "      <th></th>\n",
       "      <th>City</th>\n",
       "      <th>Country</th>\n",
       "      <th>Employees</th>\n",
       "      <th>ID</th>\n",
       "      <th>Name</th>\n",
       "      <th>State</th>\n",
       "      <th>Continent</th>\n",
       "    </tr>\n",
       "    <tr>\n",
       "      <th>Address</th>\n",
       "      <th></th>\n",
       "      <th></th>\n",
       "      <th></th>\n",
       "      <th></th>\n",
       "      <th></th>\n",
       "      <th></th>\n",
       "      <th></th>\n",
       "    </tr>\n",
       "  </thead>\n",
       "  <tbody>\n",
       "    <tr>\n",
       "      <th>3666 21st St</th>\n",
       "      <td>San Francisco</td>\n",
       "      <td>USA</td>\n",
       "      <td>8</td>\n",
       "      <td>1</td>\n",
       "      <td>Madeira</td>\n",
       "      <td>CA 94114</td>\n",
       "      <td>North America</td>\n",
       "    </tr>\n",
       "    <tr>\n",
       "      <th>735 Dolores St</th>\n",
       "      <td>San Francisco</td>\n",
       "      <td>USA</td>\n",
       "      <td>15</td>\n",
       "      <td>2</td>\n",
       "      <td>Bready Shop</td>\n",
       "      <td>CA 94119</td>\n",
       "      <td>North America</td>\n",
       "    </tr>\n",
       "    <tr>\n",
       "      <th>332 Hill St</th>\n",
       "      <td>San Francisco</td>\n",
       "      <td>USA</td>\n",
       "      <td>25</td>\n",
       "      <td>3</td>\n",
       "      <td>Super River</td>\n",
       "      <td>California 94114</td>\n",
       "      <td>North America</td>\n",
       "    </tr>\n",
       "    <tr>\n",
       "      <th>3995 23rd St</th>\n",
       "      <td>San Francisco</td>\n",
       "      <td>USA</td>\n",
       "      <td>10</td>\n",
       "      <td>4</td>\n",
       "      <td>Ben's Shop</td>\n",
       "      <td>CA 94114</td>\n",
       "      <td>North America</td>\n",
       "    </tr>\n",
       "    <tr>\n",
       "      <th>1056 Sanchez St</th>\n",
       "      <td>San Francisco</td>\n",
       "      <td>USA</td>\n",
       "      <td>12</td>\n",
       "      <td>5</td>\n",
       "      <td>Sanchez</td>\n",
       "      <td>California</td>\n",
       "      <td>North America</td>\n",
       "    </tr>\n",
       "    <tr>\n",
       "      <th>551 Alvarado St</th>\n",
       "      <td>San Francisco</td>\n",
       "      <td>USA</td>\n",
       "      <td>20</td>\n",
       "      <td>6</td>\n",
       "      <td>Richvalley</td>\n",
       "      <td>CA 94114</td>\n",
       "      <td>North America</td>\n",
       "    </tr>\n",
       "    <tr>\n",
       "      <th>My Address</th>\n",
       "      <td>My City</td>\n",
       "      <td>My Country</td>\n",
       "      <td>10</td>\n",
       "      <td>7</td>\n",
       "      <td>My Shop</td>\n",
       "      <td>My State</td>\n",
       "      <td>My Continent</td>\n",
       "    </tr>\n",
       "  </tbody>\n",
       "</table>\n",
       "</div>"
      ],
      "text/plain": [
       "                          City     Country Employees ID         Name  \\\n",
       "Address                                                                \n",
       "3666 21st St     San Francisco         USA         8  1      Madeira   \n",
       "735 Dolores St   San Francisco         USA        15  2  Bready Shop   \n",
       "332 Hill St      San Francisco         USA        25  3  Super River   \n",
       "3995 23rd St     San Francisco         USA        10  4   Ben's Shop   \n",
       "1056 Sanchez St  San Francisco         USA        12  5      Sanchez   \n",
       "551 Alvarado St  San Francisco         USA        20  6   Richvalley   \n",
       "My Address             My City  My Country        10  7      My Shop   \n",
       "\n",
       "                            State      Continent  \n",
       "Address                                           \n",
       "3666 21st St             CA 94114  North America  \n",
       "735 Dolores St           CA 94119  North America  \n",
       "332 Hill St      California 94114  North America  \n",
       "3995 23rd St             CA 94114  North America  \n",
       "1056 Sanchez St        California  North America  \n",
       "551 Alvarado St          CA 94114  North America  \n",
       "My Address               My State   My Continent  "
      ]
     },
     "execution_count": 35,
     "metadata": {},
     "output_type": "execute_result"
    }
   ],
   "source": [
    "#trick to insert new rows\n",
    "df2 = df2_t.T\n",
    "df2"
   ]
  },
  {
   "cell_type": "code",
   "execution_count": 38,
   "metadata": {
    "collapsed": false
   },
   "outputs": [
    {
     "data": {
      "text/html": [
       "<div>\n",
       "<table border=\"1\" class=\"dataframe\">\n",
       "  <thead>\n",
       "    <tr style=\"text-align: right;\">\n",
       "      <th></th>\n",
       "      <th>ID</th>\n",
       "      <th>Address</th>\n",
       "      <th>City</th>\n",
       "      <th>State</th>\n",
       "      <th>Country</th>\n",
       "      <th>Name</th>\n",
       "      <th>Employees</th>\n",
       "    </tr>\n",
       "  </thead>\n",
       "  <tbody>\n",
       "    <tr>\n",
       "      <th>0</th>\n",
       "      <td>1</td>\n",
       "      <td>3666 21st St, San Francisco,  CA 94114,  USA</td>\n",
       "      <td>San Francisco</td>\n",
       "      <td>CA 94114</td>\n",
       "      <td>USA</td>\n",
       "      <td>Madeira</td>\n",
       "      <td>8</td>\n",
       "    </tr>\n",
       "    <tr>\n",
       "      <th>1</th>\n",
       "      <td>2</td>\n",
       "      <td>735 Dolores St, San Francisco,  CA 94119,  USA</td>\n",
       "      <td>San Francisco</td>\n",
       "      <td>CA 94119</td>\n",
       "      <td>USA</td>\n",
       "      <td>Bready Shop</td>\n",
       "      <td>15</td>\n",
       "    </tr>\n",
       "    <tr>\n",
       "      <th>2</th>\n",
       "      <td>3</td>\n",
       "      <td>332 Hill St,  San Francisco, California 94114...</td>\n",
       "      <td>San Francisco</td>\n",
       "      <td>California 94114</td>\n",
       "      <td>USA</td>\n",
       "      <td>Super River</td>\n",
       "      <td>25</td>\n",
       "    </tr>\n",
       "    <tr>\n",
       "      <th>3</th>\n",
       "      <td>4</td>\n",
       "      <td>3995 23rd St,  San Francisco,  CA 94114, USA</td>\n",
       "      <td>San Francisco</td>\n",
       "      <td>CA 94114</td>\n",
       "      <td>USA</td>\n",
       "      <td>Ben's Shop</td>\n",
       "      <td>10</td>\n",
       "    </tr>\n",
       "    <tr>\n",
       "      <th>4</th>\n",
       "      <td>5</td>\n",
       "      <td>1056 Sanchez St, San Francisco, California, USA</td>\n",
       "      <td>San Francisco</td>\n",
       "      <td>California</td>\n",
       "      <td>USA</td>\n",
       "      <td>Sanchez</td>\n",
       "      <td>12</td>\n",
       "    </tr>\n",
       "    <tr>\n",
       "      <th>5</th>\n",
       "      <td>6</td>\n",
       "      <td>551 Alvarado St, San Francisco, CA 94114, USA</td>\n",
       "      <td>San Francisco</td>\n",
       "      <td>CA 94114</td>\n",
       "      <td>USA</td>\n",
       "      <td>Richvalley</td>\n",
       "      <td>20</td>\n",
       "    </tr>\n",
       "  </tbody>\n",
       "</table>\n",
       "</div>"
      ],
      "text/plain": [
       "   ID                                            Address            City  \\\n",
       "0   1       3666 21st St, San Francisco,  CA 94114,  USA   San Francisco   \n",
       "1   2     735 Dolores St, San Francisco,  CA 94119,  USA   San Francisco   \n",
       "2   3   332 Hill St,  San Francisco, California 94114...   San Francisco   \n",
       "3   4       3995 23rd St,  San Francisco,  CA 94114, USA   San Francisco   \n",
       "4   5    1056 Sanchez St, San Francisco, California, USA   San Francisco   \n",
       "5   6      551 Alvarado St, San Francisco, CA 94114, USA   San Francisco   \n",
       "\n",
       "              State Country          Name  Employees  \n",
       "0          CA 94114     USA       Madeira          8  \n",
       "1          CA 94119     USA   Bready Shop         15  \n",
       "2  California 94114     USA   Super River         25  \n",
       "3          CA 94114     USA    Ben's Shop         10  \n",
       "4        California     USA       Sanchez         12  \n",
       "5          CA 94114     USA    Richvalley         20  "
      ]
     },
     "execution_count": 38,
     "metadata": {},
     "output_type": "execute_result"
    }
   ],
   "source": [
    "#geocode\n",
    "from geopy.geocoders import Nominatim\n",
    "nom = Nominatim()\n",
    "df = pandas.read_csv(\"http://pythonhow.com/supermarkets.csv\")\n",
    "df[\"Address\"] = df[\"Address\"] + \", \" + df[\"City\"]  + \", \" + df[\"State\"] + \", \" + df[\"Country\"]\n",
    "df"
   ]
  },
  {
   "cell_type": "code",
   "execution_count": 39,
   "metadata": {
    "collapsed": false
   },
   "outputs": [
    {
     "data": {
      "text/plain": [
       "0    (3666, 21st Street, Noe Valley, SF, California...\n",
       "1                                                 None\n",
       "2    (332, Hill Street, Liberty Street Historic Dis...\n",
       "3    (3995, 23rd Street, Noe Valley, SF, California...\n",
       "4    (1056, Sanchez Street, Noe Valley, SF, Califor...\n",
       "5    (551, Alvarado Street, Noe Valley, SF, Califor...\n",
       "Name: Coordinates, dtype: object"
      ]
     },
     "execution_count": 39,
     "metadata": {},
     "output_type": "execute_result"
    }
   ],
   "source": [
    "df[\"Coordinates\"] = df[\"Address\"].apply(nom.geocode)\n",
    "df.Coordinates"
   ]
  },
  {
   "cell_type": "code",
   "execution_count": 40,
   "metadata": {
    "collapsed": false
   },
   "outputs": [
    {
     "data": {
      "text/plain": [
       "37.756488877551"
      ]
     },
     "execution_count": 40,
     "metadata": {},
     "output_type": "execute_result"
    }
   ],
   "source": [
    "df.Coordinates[0].latitude"
   ]
  },
  {
   "cell_type": "code",
   "execution_count": 45,
   "metadata": {
    "collapsed": false
   },
   "outputs": [
    {
     "data": {
      "text/html": [
       "<div>\n",
       "<table border=\"1\" class=\"dataframe\">\n",
       "  <thead>\n",
       "    <tr style=\"text-align: right;\">\n",
       "      <th></th>\n",
       "      <th>ID</th>\n",
       "      <th>Address</th>\n",
       "      <th>City</th>\n",
       "      <th>State</th>\n",
       "      <th>Country</th>\n",
       "      <th>Name</th>\n",
       "      <th>Employees</th>\n",
       "      <th>Coordinates</th>\n",
       "      <th>Latitude</th>\n",
       "      <th>Longitude</th>\n",
       "    </tr>\n",
       "  </thead>\n",
       "  <tbody>\n",
       "    <tr>\n",
       "      <th>0</th>\n",
       "      <td>1</td>\n",
       "      <td>3666 21st St, San Francisco,  CA 94114,  USA</td>\n",
       "      <td>San Francisco</td>\n",
       "      <td>CA 94114</td>\n",
       "      <td>USA</td>\n",
       "      <td>Madeira</td>\n",
       "      <td>8</td>\n",
       "      <td>(3666, 21st Street, Noe Valley, SF, California...</td>\n",
       "      <td>37.756489</td>\n",
       "      <td>-122.429343</td>\n",
       "    </tr>\n",
       "    <tr>\n",
       "      <th>1</th>\n",
       "      <td>2</td>\n",
       "      <td>735 Dolores St, San Francisco,  CA 94119,  USA</td>\n",
       "      <td>San Francisco</td>\n",
       "      <td>CA 94119</td>\n",
       "      <td>USA</td>\n",
       "      <td>Bready Shop</td>\n",
       "      <td>15</td>\n",
       "      <td>None</td>\n",
       "      <td>NaN</td>\n",
       "      <td>NaN</td>\n",
       "    </tr>\n",
       "    <tr>\n",
       "      <th>2</th>\n",
       "      <td>3</td>\n",
       "      <td>332 Hill St,  San Francisco, California 94114...</td>\n",
       "      <td>San Francisco</td>\n",
       "      <td>California 94114</td>\n",
       "      <td>USA</td>\n",
       "      <td>Super River</td>\n",
       "      <td>25</td>\n",
       "      <td>(332, Hill Street, Liberty Street Historic Dis...</td>\n",
       "      <td>37.755725</td>\n",
       "      <td>-122.428601</td>\n",
       "    </tr>\n",
       "    <tr>\n",
       "      <th>3</th>\n",
       "      <td>4</td>\n",
       "      <td>3995 23rd St,  San Francisco,  CA 94114, USA</td>\n",
       "      <td>San Francisco</td>\n",
       "      <td>CA 94114</td>\n",
       "      <td>USA</td>\n",
       "      <td>Ben's Shop</td>\n",
       "      <td>10</td>\n",
       "      <td>(3995, 23rd Street, Noe Valley, SF, California...</td>\n",
       "      <td>37.752965</td>\n",
       "      <td>-122.431714</td>\n",
       "    </tr>\n",
       "    <tr>\n",
       "      <th>4</th>\n",
       "      <td>5</td>\n",
       "      <td>1056 Sanchez St, San Francisco, California, USA</td>\n",
       "      <td>San Francisco</td>\n",
       "      <td>California</td>\n",
       "      <td>USA</td>\n",
       "      <td>Sanchez</td>\n",
       "      <td>12</td>\n",
       "      <td>(1056, Sanchez Street, Noe Valley, SF, Califor...</td>\n",
       "      <td>37.752146</td>\n",
       "      <td>-122.429815</td>\n",
       "    </tr>\n",
       "    <tr>\n",
       "      <th>5</th>\n",
       "      <td>6</td>\n",
       "      <td>551 Alvarado St, San Francisco, CA 94114, USA</td>\n",
       "      <td>San Francisco</td>\n",
       "      <td>CA 94114</td>\n",
       "      <td>USA</td>\n",
       "      <td>Richvalley</td>\n",
       "      <td>20</td>\n",
       "      <td>(551, Alvarado Street, Noe Valley, SF, Califor...</td>\n",
       "      <td>37.753673</td>\n",
       "      <td>-122.433220</td>\n",
       "    </tr>\n",
       "  </tbody>\n",
       "</table>\n",
       "</div>"
      ],
      "text/plain": [
       "   ID                                            Address            City  \\\n",
       "0   1       3666 21st St, San Francisco,  CA 94114,  USA   San Francisco   \n",
       "1   2     735 Dolores St, San Francisco,  CA 94119,  USA   San Francisco   \n",
       "2   3   332 Hill St,  San Francisco, California 94114...   San Francisco   \n",
       "3   4       3995 23rd St,  San Francisco,  CA 94114, USA   San Francisco   \n",
       "4   5    1056 Sanchez St, San Francisco, California, USA   San Francisco   \n",
       "5   6      551 Alvarado St, San Francisco, CA 94114, USA   San Francisco   \n",
       "\n",
       "              State Country          Name  Employees  \\\n",
       "0          CA 94114     USA       Madeira          8   \n",
       "1          CA 94119     USA   Bready Shop         15   \n",
       "2  California 94114     USA   Super River         25   \n",
       "3          CA 94114     USA    Ben's Shop         10   \n",
       "4        California     USA       Sanchez         12   \n",
       "5          CA 94114     USA    Richvalley         20   \n",
       "\n",
       "                                         Coordinates   Latitude   Longitude  \n",
       "0  (3666, 21st Street, Noe Valley, SF, California...  37.756489 -122.429343  \n",
       "1                                               None        NaN         NaN  \n",
       "2  (332, Hill Street, Liberty Street Historic Dis...  37.755725 -122.428601  \n",
       "3  (3995, 23rd Street, Noe Valley, SF, California...  37.752965 -122.431714  \n",
       "4  (1056, Sanchez Street, Noe Valley, SF, Califor...  37.752146 -122.429815  \n",
       "5  (551, Alvarado Street, Noe Valley, SF, Califor...  37.753673 -122.433220  "
      ]
     },
     "execution_count": 45,
     "metadata": {},
     "output_type": "execute_result"
    }
   ],
   "source": [
    "df[\"Latitude\"] = df[\"Coordinates\"].apply(lambda x: x.latitude if x != None else None)\n",
    "df[\"Longitude\"] = df[\"Coordinates\"].apply(lambda x: x.longitude if x != None else None)\n",
    "df"
   ]
  },
  {
   "cell_type": "code",
   "execution_count": null,
   "metadata": {
    "collapsed": true
   },
   "outputs": [],
   "source": []
  },
  {
   "cell_type": "code",
   "execution_count": null,
   "metadata": {
    "collapsed": true
   },
   "outputs": [],
   "source": []
  },
  {
   "cell_type": "code",
   "execution_count": null,
   "metadata": {
    "collapsed": true
   },
   "outputs": [],
   "source": []
  },
  {
   "cell_type": "code",
   "execution_count": null,
   "metadata": {
    "collapsed": true
   },
   "outputs": [],
   "source": []
  }
 ],
 "metadata": {
  "kernelspec": {
   "display_name": "Python 3",
   "language": "python",
   "name": "python3"
  },
  "language_info": {
   "codemirror_mode": {
    "name": "ipython",
    "version": 3
   },
   "file_extension": ".py",
   "mimetype": "text/x-python",
   "name": "python",
   "nbconvert_exporter": "python",
   "pygments_lexer": "ipython3",
   "version": "3.5.2"
  }
 },
 "nbformat": 4,
 "nbformat_minor": 2
}
